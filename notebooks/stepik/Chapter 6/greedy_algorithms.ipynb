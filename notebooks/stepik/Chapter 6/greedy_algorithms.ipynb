{
 "cells": [
  {
   "cell_type": "markdown",
   "id": "c1dd75ce-c2aa-40f6-97fd-11a5e4de2a35",
   "metadata": {
    "tags": []
   },
   "source": [
    "## Money Change Problem"
   ]
  },
  {
   "cell_type": "markdown",
   "id": "632759dc-ee71-4652-b642-0cc8b8c1199d",
   "metadata": {},
   "source": [
    "Compute the minimum number of coins needed to change the given value into coins with denominations 1, 5, and 10.\n",
    "\n",
    "    Input: An integer moneymoney.\n",
    "    Output: The minimum number of coins with denominations 1, 5, and 10 that changes money."
   ]
  },
  {
   "cell_type": "markdown",
   "id": "9384c16b-0a6e-4f67-ab06-3951a2fd2fa3",
   "metadata": {},
   "source": [
    "### Pseudocode\n",
    "- Find the largest denomination that does not exceed the money\n",
    "- Subtract the denomination value from the money\n",
    "- Increment change count by 1\n",
    "- Repeat for the remaining money until there is none left"
   ]
  },
  {
   "cell_type": "code",
   "execution_count": 21,
   "id": "c813fd86-7999-4302-aa49-012351992490",
   "metadata": {
    "tags": []
   },
   "outputs": [],
   "source": [
    "def money_change(money, denominations):\n",
    "    denominations.sort(reverse=True)\n",
    "    change_count = 0\n",
    "    \n",
    "    def helper():\n",
    "        global money\n",
    "        largest_denomination = None\n",
    "        for d in denominations:\n",
    "            if money - d > 0:\n",
    "                largest_denomination = d\n",
    "                break\n",
    "        money = money - d\n",
    "        change_count += 1\n",
    "        \n",
    "    while money:\n",
    "        helper()\n",
    "\n",
    "    return change_count"
   ]
  },
  {
   "cell_type": "code",
   "execution_count": 22,
   "id": "01681dc8-131a-4014-807a-7438cbfa4431",
   "metadata": {
    "tags": []
   },
   "outputs": [
    {
     "ename": "NameError",
     "evalue": "name 'money' is not defined",
     "output_type": "error",
     "traceback": [
      "\u001b[0;31m---------------------------------------------------------------------------\u001b[0m",
      "\u001b[0;31mNameError\u001b[0m                                 Traceback (most recent call last)",
      "Cell \u001b[0;32mIn[22], line 1\u001b[0m\n\u001b[0;32m----> 1\u001b[0m \u001b[43mmoney_change\u001b[49m\u001b[43m(\u001b[49m\u001b[38;5;241;43m28\u001b[39;49m\u001b[43m,\u001b[49m\u001b[43m \u001b[49m\u001b[43m[\u001b[49m\u001b[38;5;241;43m1\u001b[39;49m\u001b[43m,\u001b[49m\u001b[43m \u001b[49m\u001b[38;5;241;43m5\u001b[39;49m\u001b[43m,\u001b[49m\u001b[43m \u001b[49m\u001b[38;5;241;43m10\u001b[39;49m\u001b[43m]\u001b[49m\u001b[43m)\u001b[49m\n",
      "Cell \u001b[0;32mIn[21], line 16\u001b[0m, in \u001b[0;36mmoney_change\u001b[0;34m(money, denominations)\u001b[0m\n\u001b[1;32m     13\u001b[0m     change_count \u001b[38;5;241m+\u001b[39m\u001b[38;5;241m=\u001b[39m \u001b[38;5;241m1\u001b[39m\n\u001b[1;32m     15\u001b[0m \u001b[38;5;28;01mwhile\u001b[39;00m money:\n\u001b[0;32m---> 16\u001b[0m     \u001b[43mhelper\u001b[49m\u001b[43m(\u001b[49m\u001b[43m)\u001b[49m\n\u001b[1;32m     18\u001b[0m \u001b[38;5;28;01mreturn\u001b[39;00m change_count\n",
      "Cell \u001b[0;32mIn[21], line 9\u001b[0m, in \u001b[0;36mmoney_change.<locals>.helper\u001b[0;34m()\u001b[0m\n\u001b[1;32m      7\u001b[0m largest_denomination \u001b[38;5;241m=\u001b[39m \u001b[38;5;28;01mNone\u001b[39;00m\n\u001b[1;32m      8\u001b[0m \u001b[38;5;28;01mfor\u001b[39;00m d \u001b[38;5;129;01min\u001b[39;00m denominations:\n\u001b[0;32m----> 9\u001b[0m     \u001b[38;5;28;01mif\u001b[39;00m \u001b[43mmoney\u001b[49m \u001b[38;5;241m-\u001b[39m d \u001b[38;5;241m>\u001b[39m \u001b[38;5;241m0\u001b[39m:\n\u001b[1;32m     10\u001b[0m         largest_denomination \u001b[38;5;241m=\u001b[39m d\n\u001b[1;32m     11\u001b[0m         \u001b[38;5;28;01mbreak\u001b[39;00m\n",
      "\u001b[0;31mNameError\u001b[0m: name 'money' is not defined"
     ]
    }
   ],
   "source": [
    "money_change(28, [1, 5, 10])"
   ]
  },
  {
   "cell_type": "code",
   "execution_count": null,
   "id": "06f1d3a7-5d34-456f-932a-b7bea5e0f7ea",
   "metadata": {
    "tags": []
   },
   "outputs": [],
   "source": [
    "money"
   ]
  },
  {
   "cell_type": "code",
   "execution_count": null,
   "id": "8ba4fb5f-6a5e-4f14-b372-ed6387843a02",
   "metadata": {},
   "outputs": [],
   "source": []
  }
 ],
 "metadata": {
  "kernelspec": {
   "display_name": "Python 3 (ipykernel)",
   "language": "python",
   "name": "python3"
  },
  "language_info": {
   "codemirror_mode": {
    "name": "ipython",
    "version": 3
   },
   "file_extension": ".py",
   "mimetype": "text/x-python",
   "name": "python",
   "nbconvert_exporter": "python",
   "pygments_lexer": "ipython3",
   "version": "3.10.11"
  }
 },
 "nbformat": 4,
 "nbformat_minor": 5
}
