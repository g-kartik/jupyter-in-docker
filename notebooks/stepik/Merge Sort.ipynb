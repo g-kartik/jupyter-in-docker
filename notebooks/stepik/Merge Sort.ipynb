{
 "cells": [
  {
   "cell_type": "markdown",
   "id": "c9681d98",
   "metadata": {},
   "source": [
    "## Implement Merge Sort Algorithm to solve the problem of searching for an element in an array"
   ]
  },
  {
   "cell_type": "markdown",
   "id": "975b2c2f",
   "metadata": {},
   "source": [
    "The MergeMerge algorithm combines two sorted lists into a single sorted list in O(∣List1∣+∣List2∣)O(∣List1​∣+∣List2​∣) time by iteratively choosing the smallest remaining element in List1List1​ and List2List2​ and moving it to the growing sorted list.\n",
    "```\n",
    "   Merge(List1,List2)Merge(List1​,List2​):\n",
    "     SortedList←empty listSortedList←empty list\n",
    "     while both List1List1​ and List2List2​ are non-empty:\n",
    "        if the smallest element in List1List1​ is smaller than the smallest element in List2List2​:\n",
    "          move the smallest element from List1List1​ to the end of SortedListSortedList\n",
    "        else:\n",
    "          move the smallest element from List2List2​ to the end of SortedListSortedList\n",
    "     move any remaining elements from either List1List1​ or List2List2​ to the end of SortedListSortedList\n",
    "     return SortedListSortedList\n",
    " ```\n",
    " \n",
    " ```\n",
    "   MergeSortMergeSort(ListList):\n",
    "     if ListList consists of a single element:\n",
    "        return ListList\n",
    "     FirstHalf←first half of ListFirstHalf←first half of List\n",
    "     SecondHalf←second half of ListSecondHalf←second half of List\n",
    "     SortedFirstHalf←MergeSort(FirstHalf)SortedFirstHalf←MergeSort(FirstHalf)\n",
    "     SortedSecondHalf←MergeSort(SecondHalf)SortedSecondHalf←MergeSort(SecondHalf)\n",
    "     SortedList←Merge(SortedFirstHalf,SortedSecondHalf)SortedList←Merge(SortedFirstHalf,SortedSecondHalf)\n",
    "     return SortedListSortedList\n",
    " ```"
   ]
  },
  {
   "cell_type": "markdown",
   "id": "71e065bb",
   "metadata": {},
   "source": [
    "The logic for merge sort is that, given two sorted lists of numbers. We can merge them to create a combined sorted list.\n",
    "\n",
    "So lets first derive our logic for merging two sorted lists.\n",
    "We have two sorted lists, L1 and L2\n",
    "Initialize an empty list named result\n",
    "Create pointers p1 and p2 for the lists l1 and l2 respectively\n",
    "While not (either one of the pointers reach the end of the list):\n",
    "    - Get the value v1 and v2 for the pointers p1 and p2 respectively\n",
    "    - If v1 < v2 then add v1 to the end of list result and increment p1\n",
    "    - Else add v2 to the end of the list result and increment p2\n",
    "Add remaining elements from the list which remains to be traversed\n",
    "\n",
    "Merge Sort Pseudocode\n",
    "- This is a recursive algorithm, where we break the input list into two halves. We sort them separately and merge using merge sorted list algoritm.\n",
    "- The base condition for the merge sort is when the splitted half contain just one element.\n",
    "\n",
    "Binary Search Psuedocode\n",
    "- The function should accept left pointer, right pointer and the input list\n",
    "- Initialize the left pointer as 0 and right pointer as one minus the length of the input list\n",
    "- If left pointer is greater than the right pointer, return None\n",
    "- Calculate mid pointer value based on left and right pointer\n",
    "- If value at mid pointer is equal to the search value, return the mid pointer\n",
    "- If value at mid pointer is greater than the search value, set the right pointer to one less than the mid pointer and recursively call the function\n",
    "- If value at mid pointer is less than the search value set the left pointer to one greater than the mid pointer and recursively call the function"
   ]
  },
  {
   "cell_type": "code",
   "execution_count": 32,
   "id": "218c1419",
   "metadata": {},
   "outputs": [],
   "source": [
    "def merge_sorted_lists(list1, list2):\n",
    "    result = []\n",
    "    p1 = p2 = 0\n",
    "    \n",
    "    while True:\n",
    "        try:\n",
    "            v1 = list1[p1]\n",
    "            v2 = list2[p2]\n",
    "        except IndexError:\n",
    "            break\n",
    "        \n",
    "        if v1 < v2:\n",
    "            result.append(v1)\n",
    "            p1 += 1\n",
    "        else:\n",
    "            result.append(v2)\n",
    "            p2 += 1\n",
    "    # If list1 is exhausted, then p1 pointer's value will be one larger than the largest index of list1, \n",
    "    # which is nothing but length of list1        \n",
    "    if p1 == len(list1):\n",
    "        result.extend(list2[p2:])\n",
    "    else:\n",
    "        result.extend(list1[p1:])\n",
    "    return result"
   ]
  },
  {
   "cell_type": "code",
   "execution_count": 33,
   "id": "606fbf7a",
   "metadata": {},
   "outputs": [],
   "source": [
    "def merge_sort(input_list):\n",
    "    if len(input_list) == 1:\n",
    "        return input_list\n",
    "    mid_index = len(input_list)//2\n",
    "    first_half = input_list[0:mid_index]\n",
    "    second_half = input_list[mid_index:]\n",
    "    sorted_first_half = merge_sort(first_half)\n",
    "    sorted_second_half = merge_sort(second_half)\n",
    "    result = merge_sorted_lists(sorted_first_half, sorted_second_half)\n",
    "    return result    "
   ]
  },
  {
   "cell_type": "code",
   "execution_count": 46,
   "id": "81efe869",
   "metadata": {},
   "outputs": [],
   "source": [
    "def binary_search(input_list, search_value):\n",
    "    input_list = merge_sort(input_list)\n",
    "    \n",
    "    def binary_search_helper(left, right):\n",
    "        if left > right:\n",
    "            return None\n",
    "        mid = (left + right) // 2\n",
    "        mid_val = input_list[mid]\n",
    "        if mid_val == search_value:\n",
    "            return mid\n",
    "        elif mid_val < search_value:\n",
    "            return binary_search_helper(mid+1, right)\n",
    "        elif mid_val > search_value:\n",
    "            return binary_search_helper(left, mid-1)\n",
    "    return binary_search_helper(0, len(input_list)-1)"
   ]
  },
  {
   "cell_type": "code",
   "execution_count": null,
   "id": "c1d546a9",
   "metadata": {},
   "outputs": [],
   "source": []
  }
 ],
 "metadata": {
  "kernelspec": {
   "display_name": "Python 3 (ipykernel)",
   "language": "python",
   "name": "python3"
  },
  "language_info": {
   "codemirror_mode": {
    "name": "ipython",
    "version": 3
   },
   "file_extension": ".py",
   "mimetype": "text/x-python",
   "name": "python",
   "nbconvert_exporter": "python",
   "pygments_lexer": "ipython3",
   "version": "3.10.11"
  }
 },
 "nbformat": 4,
 "nbformat_minor": 5
}
