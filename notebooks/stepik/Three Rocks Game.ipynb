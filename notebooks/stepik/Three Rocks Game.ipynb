{
 "cells": [
  {
   "cell_type": "markdown",
   "id": "d248dfd1",
   "metadata": {
    "tags": []
   },
   "source": [
    "## Pseudocode\n",
    "- Make a list of number of possible moves where a move is represented by a tuple of rocks picked up from each pile\n",
    "- Make a dictionary for storing the outcome of a move and initialize it with the possible moves and their values\n",
    "- Make a function for getting the outcome of the game which accepts the initial state of the game which is a tuple of \n",
    "### Psuedocode for the game outcome function\n",
    "- Check if the outcome of the move already exists in the move outcome dictionary. If yes reuturn its value, else continue\n",
    "- Create a list of all the next possible moves\n",
    "- Iterate though all the next possible moves\n",
    "- For each move:\n",
    "    - Try to find the outcome in the move outcome dictionary.\n",
    "    - If we cannot find the value, make a recursive call to current function and get the value and also store the return value in the dictionary\n",
    "    - If the value is 'lose', then return 'win' else continue. (It is because this move would be played by the other player, so the current player can choose this move to win.)\n",
    "- If we cannot find atleast one move which is a loosing scenario for the other player, return 'lose'\n"
   ]
  },
  {
   "cell_type": "code",
   "execution_count": 14,
   "id": "a654929f",
   "metadata": {},
   "outputs": [],
   "source": [
    "class ThreeRockGame:\n",
    "    POSSIBLE_MOVES = [(0,0), (0,1), (1,0), (1,1), (0,2), (2,0), (1,2), (2,1), (0,3), (3,0)]\n",
    "    \n",
    "    def __init__(self):\n",
    "        self.move_outcomes = {move:'W' for move in self.POSSIBLE_MOVES}\n",
    "        \n",
    "    def add_move_outcome(self, move, outcome):\n",
    "        \"\"\"\n",
    "        Add outcome of a move to move_outcome dictionary\n",
    "        :param move tuple: tuple of remaining rocks in pile 1 and pile 2\n",
    "        \"\"\"\n",
    "        self.move_outcomes[move] = outcome\n",
    "        \n",
    "    def get_move_outcome(self, move):\n",
    "        \"\"\"\n",
    "        Return the outcome of a move\n",
    "        :param move tuple: tuple of remaining rocks in pile 1 and pile 2\n",
    "        :return str: outcome value\n",
    "        :raises: KeyError if move is not found\n",
    "        \"\"\"\n",
    "        return self.move_outcomes[move]\n",
    "            \n",
    "    def get_game_outcome(self, p, q):\n",
    "        \"\"\"\n",
    "        Get game outcome for player 1\n",
    "        :param p int: Number of rocks in pile 1\n",
    "        :param q int: Number of rocks in pile 2\n",
    "        \"\"\"\n",
    "        if p < 0 or q < 0:\n",
    "            return None\n",
    "\n",
    "        try:\n",
    "            return self.get_move_outcome((p, q))\n",
    "        except KeyError:\n",
    "            pass\n",
    "\n",
    "        moves = [(p-1, q), (p, q-1), (p-1, q-1), (p-2, q), (p, q-2),\n",
    "                 (p-1, q-2), (p-2, q-1), (p-3, q), (p, q-3)]\n",
    "\n",
    "        for move in moves:\n",
    "            try:\n",
    "                outcome = self.get_move_outcome(move)\n",
    "            except KeyError:\n",
    "                recurse_outcome  = self.get_game_outcome(*move)\n",
    "                \n",
    "                if recurse_outcome is not None:\n",
    "                    self.add_move_outcome(move, recurse_outcome)\n",
    "                    outcome = recurse_outcome\n",
    "                else:\n",
    "                    continue\n",
    "                    \n",
    "            if outcome == 'W':\n",
    "                continue\n",
    "            else:\n",
    "                return 'W'\n",
    "        return 'L'"
   ]
  },
  {
   "cell_type": "code",
   "execution_count": 15,
   "id": "a3c4aaa4",
   "metadata": {},
   "outputs": [],
   "source": [
    "game = ThreeRockGame()"
   ]
  },
  {
   "cell_type": "code",
   "execution_count": 16,
   "id": "4f47a1c6",
   "metadata": {},
   "outputs": [
    {
     "data": {
      "text/plain": [
       "'lose'"
      ]
     },
     "execution_count": 16,
     "metadata": {},
     "output_type": "execute_result"
    }
   ],
   "source": [
    "game.get_game_outcome(5, 7)"
   ]
  },
  {
   "cell_type": "code",
   "execution_count": 17,
   "id": "30f01e49",
   "metadata": {},
   "outputs": [],
   "source": [
    "gen = ((i,j) for i in range(0, 11) for j in range(0, 10))"
   ]
  },
  {
   "cell_type": "code",
   "execution_count": 18,
   "id": "c08d2b88",
   "metadata": {},
   "outputs": [],
   "source": [
    "results = {move: game.get_game_outcome(*move) for move in gen}"
   ]
  },
  {
   "cell_type": "code",
   "execution_count": 19,
   "id": "d207a94e",
   "metadata": {},
   "outputs": [
    {
     "data": {
      "text/plain": [
       "{(0, 4): 'lose',\n",
       " (0, 8): 'lose',\n",
       " (1, 3): 'lose',\n",
       " (1, 7): 'lose',\n",
       " (2, 2): 'lose',\n",
       " (2, 6): 'lose',\n",
       " (3, 1): 'lose',\n",
       " (3, 5): 'lose',\n",
       " (3, 9): 'lose',\n",
       " (4, 0): 'lose',\n",
       " (4, 4): 'lose',\n",
       " (4, 8): 'lose',\n",
       " (5, 3): 'lose',\n",
       " (5, 7): 'lose',\n",
       " (6, 2): 'lose',\n",
       " (6, 6): 'lose',\n",
       " (7, 1): 'lose',\n",
       " (7, 5): 'lose',\n",
       " (7, 9): 'lose',\n",
       " (8, 0): 'lose',\n",
       " (8, 4): 'lose',\n",
       " (8, 8): 'lose',\n",
       " (9, 3): 'lose',\n",
       " (9, 7): 'lose',\n",
       " (10, 2): 'lose',\n",
       " (10, 6): 'lose'}"
      ]
     },
     "execution_count": 19,
     "metadata": {},
     "output_type": "execute_result"
    }
   ],
   "source": [
    "{key: value for key, value in results.items() if value == 'lose'}"
   ]
  },
  {
   "cell_type": "code",
   "execution_count": null,
   "id": "c0a3a760",
   "metadata": {},
   "outputs": [],
   "source": []
  }
 ],
 "metadata": {
  "kernelspec": {
   "display_name": "Python 3 (ipykernel)",
   "language": "python",
   "name": "python3"
  },
  "language_info": {
   "codemirror_mode": {
    "name": "ipython",
    "version": 3
   },
   "file_extension": ".py",
   "mimetype": "text/x-python",
   "name": "python",
   "nbconvert_exporter": "python",
   "pygments_lexer": "ipython3",
   "version": "3.10.11"
  }
 },
 "nbformat": 4,
 "nbformat_minor": 5
}
