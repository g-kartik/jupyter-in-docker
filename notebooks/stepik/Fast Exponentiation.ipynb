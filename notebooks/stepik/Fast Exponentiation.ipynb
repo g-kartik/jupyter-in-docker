{
 "cells": [
  {
   "cell_type": "markdown",
   "id": "d3fc4dd0-bc86-4121-b43a-c28b12a5147c",
   "metadata": {},
   "source": [
    "# Fast Exponentiation  \n",
    "\n",
    "- Generally, to calculate `a^n`, we have to multiply `a` with itself `n` number of times.\n",
    "- We can use divide and conquer approach here. `a^n` = `a^n/2` * `a^n/2`. Therefore, we can just calculate the left term and square it to obtain the result, thus reducing the number of iterations to half. \n",
    "- Moreover, we can calculate the left term recursively until the exponent reduces to either 0 or 1\n",
    "- Since the exponent would become 1 when `n/2^e = 1`, therefore the exponent e is `log(n-2)`.\n",
    "- The maximum number of steps required to compute the result is in the order of `log(n)`"
   ]
  },
  {
   "cell_type": "code",
   "execution_count": 14,
   "id": "2b192af2-37ba-4248-9b56-bbca57532856",
   "metadata": {
    "tags": []
   },
   "outputs": [],
   "source": [
    "def get_exponent(a, n):\n",
    "    if n == 0:\n",
    "        return 1\n",
    "    elif n == 1:\n",
    "        return a\n",
    "    elif n % 2 == 0:\n",
    "        return pow(get_exponent(a, n//2), 2)\n",
    "    else:\n",
    "        return pow(get_exponent(a, n//2), 2) * a"
   ]
  },
  {
   "cell_type": "code",
   "execution_count": 15,
   "id": "86f8e761-37e0-45b5-9658-1f28e0cc5398",
   "metadata": {
    "tags": []
   },
   "outputs": [],
   "source": [
    "def get_exponent_naive(a, n):\n",
    "    return a**n"
   ]
  },
  {
   "cell_type": "code",
   "execution_count": 16,
   "id": "0474195f-40d5-4b27-bb17-08f350656f5d",
   "metadata": {
    "tags": []
   },
   "outputs": [],
   "source": [
    "from collections import OrderedDict\n",
    "\n",
    "class TestCase:\n",
    "    \n",
    "    def __init__(self, samples, *functions, verbose=False):\n",
    "        self.samples = samples\n",
    "        self.functions = functions\n",
    "        self.verbose = verbose\n",
    "        self._validate()\n",
    "        \n",
    "    def _validate(self):\n",
    "        if len(self.functions) < 2:\n",
    "            raise ValueError(\"There must be atleast two functions to compare the test results\")\n",
    "        if len(self.samples) == 0:\n",
    "            raise ValueError(\"At least one sample must be passed\")\n",
    "            \n",
    "    def _print(self, value):\n",
    "        if self.verbose:\n",
    "            print(value)\n",
    "        \n",
    "    def test(self):\n",
    "        for sample in self.samples:\n",
    "            self._print(f\"Testing Sample {sample}\")\n",
    "            if not isinstance(sample, tuple):\n",
    "                sample = (sample,)\n",
    "            results = OrderedDict((func.__name__, func(*sample)) for func in self.functions)\n",
    "            if self.verbose:\n",
    "                for func, result in results.items():\n",
    "                    print(f\"{func}: {result}\")\n",
    "            first_result = results[self.functions[0].__name__]\n",
    "            assert all([result == first_result for result in results.values()])\n",
    "            self._print(\"passed\")\n",
    "        return True"
   ]
  },
  {
   "cell_type": "code",
   "execution_count": 17,
   "id": "54f6afd1-f615-49ef-b0c8-f3e97eabdde4",
   "metadata": {
    "tags": []
   },
   "outputs": [],
   "source": [
    "test_case = TestCase([(2, 20), (6, 15), (30, 9)], get_exponent, get_exponent_naive, verbose=True)"
   ]
  },
  {
   "cell_type": "code",
   "execution_count": 18,
   "id": "c397e488-255c-4c5f-ba2d-872e2e6f940d",
   "metadata": {
    "tags": []
   },
   "outputs": [
    {
     "name": "stdout",
     "output_type": "stream",
     "text": [
      "Testing Sample (2, 20)\n",
      "get_exponent: 1048576\n",
      "get_exponent_naive: 1048576\n",
      "passed\n",
      "Testing Sample (6, 15)\n",
      "get_exponent: 470184984576\n",
      "get_exponent_naive: 470184984576\n",
      "passed\n",
      "Testing Sample (30, 9)\n",
      "get_exponent: 19683000000000\n",
      "get_exponent_naive: 19683000000000\n",
      "passed\n"
     ]
    },
    {
     "data": {
      "text/plain": [
       "True"
      ]
     },
     "execution_count": 18,
     "metadata": {},
     "output_type": "execute_result"
    }
   ],
   "source": [
    "test_case.test()"
   ]
  },
  {
   "cell_type": "code",
   "execution_count": null,
   "id": "d8b963d6-b5b6-4b60-9278-3761e86b2cc6",
   "metadata": {},
   "outputs": [],
   "source": []
  }
 ],
 "metadata": {
  "kernelspec": {
   "display_name": "Python 3 (ipykernel)",
   "language": "python",
   "name": "python3"
  },
  "language_info": {
   "codemirror_mode": {
    "name": "ipython",
    "version": 3
   },
   "file_extension": ".py",
   "mimetype": "text/x-python",
   "name": "python",
   "nbconvert_exporter": "python",
   "pygments_lexer": "ipython3",
   "version": "3.10.11"
  }
 },
 "nbformat": 4,
 "nbformat_minor": 5
}
