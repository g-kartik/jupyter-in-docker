{
 "cells": [
  {
   "cell_type": "markdown",
   "id": "2a86c219-09d8-4131-9b9f-dae7d5ac29f5",
   "metadata": {},
   "source": [
    "## Fibonacci Number  \n",
    "Compute the n-th Fibonacci number.  \n",
    "\n",
    "Input: An integer n.  \n",
    "Output: n-th Fibonacci number.\n",
    "\n",
    "Pseudocode:  \n",
    "Fibonacci Series = 0, 1, 1, 2, 3, 5, 8, 13, 21  \n",
    "\n",
    "Conditions:  \n",
    "F(n) = n, if n is 0 or 1  \n",
    "F(n) = F(n-1) + F(n-2)\n",
    "\n",
    "Pseudocode:\n",
    "    \n",
    "    Fibonacci(n):\n",
    "        if n <= 1:\n",
    "            return n\n",
    "        else:\n",
    "            return Fibonacci(n-1) + Fibonacci(n-2)"
   ]
  },
  {
   "cell_type": "markdown",
   "id": "470fa594-fd29-4da0-ab8f-4bd2db941b7d",
   "metadata": {
    "tags": []
   },
   "source": [
    "## Recursive Fibonacci"
   ]
  },
  {
   "cell_type": "code",
   "execution_count": null,
   "id": "64ac6a1f-ac70-423a-a1e3-15ae67b054b3",
   "metadata": {},
   "outputs": [],
   "source": [
    "def fibonacci(n):\n",
    "    if n < 0:\n",
    "        raise ValueError(\"invalid input\")\n",
    "    if n <= 1:\n",
    "        return n\n",
    "    else:\n",
    "        return fibonacci(n-1) + fibonacci(n-2)"
   ]
  },
  {
   "cell_type": "markdown",
   "id": "045f2086-4ee1-407b-b771-31b1d1f7255e",
   "metadata": {},
   "source": [
    "## Iterative Fibonacci"
   ]
  },
  {
   "cell_type": "code",
   "execution_count": 109,
   "id": "e3cbb38b-4492-4335-8b2e-9a39f07ff0a2",
   "metadata": {
    "tags": []
   },
   "outputs": [],
   "source": [
    "def fibonacci_generator():\n",
    "    \"\"\"\n",
    "    Infinite fibonacci series generator\n",
    "    \"\"\"\n",
    "    first = 0\n",
    "    second = 1\n",
    "    yield first\n",
    "    yield second\n",
    "    while True:\n",
    "        result = first + second\n",
    "        yield result\n",
    "        first = second\n",
    "        second = result\n",
    "        \n",
    "def fibonacci_naive(n):\n",
    "    \"\"\"\n",
    "    Return nth fibonacci value without using any array\n",
    "    \"\"\"\n",
    "    generator = fibonacci_generator()\n",
    "    while n >= 0:\n",
    "        value = next(generator)\n",
    "        n -= 1\n",
    "    return value\n",
    "\n",
    "def fibonacci_naive_2(n):\n",
    "    \"\"\"\n",
    "    Return nth fibonacci value without using any array \n",
    "    \"\"\"\n",
    "    if n <= 1:\n",
    "        return n\n",
    "    first = 0\n",
    "    second = 1\n",
    "    # We have to process total n+1 fibonacci values to find the nth fibonacci value\n",
    "    # We have already processed two values from the if condition\n",
    "    # So we are left with n-1 remaining steps\n",
    "    for _ in range(2, n+1):\n",
    "        first, second = second, first + second\n",
    "    return second\n",
    "\n",
    "def fibonacci_naive_3(n):\n",
    "    \"\"\"\n",
    "    Return nth fibonacci value without using any array \n",
    "    \"\"\"\n",
    "    # Here total number of fibonacci values generated (including predefined) is n+2\n",
    "    # But we need only n+1 th value in the series so we return the curr_val of last iteration\n",
    "    curr_val = 0\n",
    "    next_val = 1\n",
    "    \n",
    "    for _ in range(n):\n",
    "        curr_val, next_val = next_val, curr_val + next_val\n",
    "    return curr_val"
   ]
  },
  {
   "cell_type": "markdown",
   "id": "9589b508-2819-4f2d-9653-3e441382529f",
   "metadata": {},
   "source": [
    "## Recursive Fibonacci using Memoization"
   ]
  },
  {
   "cell_type": "code",
   "execution_count": 110,
   "id": "a7cc7774-234d-4166-b9c3-77da5106c442",
   "metadata": {
    "tags": []
   },
   "outputs": [],
   "source": [
    "memo = {}\n",
    "def fibonacci_memo(n):\n",
    "    try:\n",
    "        return memo[n]\n",
    "    except KeyError:\n",
    "        if n <= 1:\n",
    "            memo[n] = n\n",
    "        else:\n",
    "            memo[n] = fibonacci_memo(n-1) + fibonacci_memo(n-2)\n",
    "    return memo[n]"
   ]
  },
  {
   "cell_type": "markdown",
   "id": "20e2b716-5bd1-47ef-b152-7199dfe86fb9",
   "metadata": {},
   "source": [
    "## Test Case"
   ]
  },
  {
   "cell_type": "code",
   "execution_count": 24,
   "id": "31545352-77ea-4154-8304-439a9ae0b506",
   "metadata": {
    "tags": []
   },
   "outputs": [],
   "source": [
    "from collections import OrderedDict\n",
    "\n",
    "class TestCase:\n",
    "    \n",
    "    def __init__(self, samples, *functions, verbose=False):\n",
    "        self.samples = samples\n",
    "        self.functions = functions\n",
    "        self.verbose = verbose\n",
    "        self._validate()\n",
    "        \n",
    "    def _validate(self):\n",
    "        if len(self.functions) < 2:\n",
    "            raise ValueError(\"There must be atleast two functions to compare the test results\")\n",
    "        if len(self.samples) == 0:\n",
    "            raise ValueError(\"At least one sample must be passed\")\n",
    "            \n",
    "    def _print(self, value):\n",
    "        if self.verbose:\n",
    "            print(value)\n",
    "        \n",
    "    def test(self):\n",
    "        for sample in self.samples:\n",
    "            self._print(f\"Testing Sample {sample}\")\n",
    "            if not isinstance(sample, tuple):\n",
    "                sample = (sample,)\n",
    "            results = OrderedDict((func.__name__, func(*sample)) for func in self.functions)\n",
    "            if self.verbose:\n",
    "                for func, result in results.items():\n",
    "                    print(f\"{func}: {result}\")\n",
    "            first_result = results[self.functions[0].__name__]\n",
    "            assert all([result == first_result for result in results.values()])\n",
    "            self._print(\"passed\")\n",
    "        return True"
   ]
  },
  {
   "cell_type": "code",
   "execution_count": 239,
   "id": "4ba14769-24bf-4b34-978d-426f2dc4293d",
   "metadata": {
    "tags": []
   },
   "outputs": [
    {
     "data": {
      "text/plain": [
       "True"
      ]
     },
     "execution_count": 239,
     "metadata": {},
     "output_type": "execute_result"
    }
   ],
   "source": [
    "samples = [0, 1, 2, 3, 10, 15, 20, 25, 30, 35]\n",
    "functions = [fibonacci_naive, fibonacci_naive_2, fibonacci_naive_3, fibonacci, fibonacci_memo]\n",
    "test_case = TestCase(samples, *functions, verbose=False)\n",
    "test_case.test()"
   ]
  },
  {
   "cell_type": "markdown",
   "id": "e9bcb3ad-1717-426b-8fa8-1638239e1aa9",
   "metadata": {},
   "source": [
    "## Last Digit of nth Fibonacci Number"
   ]
  },
  {
   "cell_type": "markdown",
   "id": "db4eca6f-005e-460f-ab4f-285bd0c2582f",
   "metadata": {},
   "source": [
    "### Naive Approach"
   ]
  },
  {
   "cell_type": "code",
   "execution_count": 134,
   "id": "8b76d8b6-9600-4407-ad93-7892d48761b4",
   "metadata": {
    "tags": []
   },
   "outputs": [],
   "source": [
    "def fibonacci_last_digit_naive(n):\n",
    "    num = fibonacci_memo(n)\n",
    "    last_digit = num % 10\n",
    "    return last_digit"
   ]
  },
  {
   "cell_type": "code",
   "execution_count": 145,
   "id": "22cc9dc4-4f99-49bd-b449-e0bcf7371d1e",
   "metadata": {
    "tags": []
   },
   "outputs": [
    {
     "data": {
      "text/plain": [
       "5"
      ]
     },
     "execution_count": 145,
     "metadata": {},
     "output_type": "execute_result"
    }
   ],
   "source": [
    "fibonacci_last_digit_naive(5000)"
   ]
  },
  {
   "cell_type": "markdown",
   "id": "23a13afb-6e49-4dcd-852d-ff09eab87432",
   "metadata": {
    "tags": []
   },
   "source": [
    "### Optimized Approach\n",
    "#### Psuedocode\n",
    "    if n <= 1:\n",
    "        return n\n",
    "    else:\n",
    "        LastDigit(Fib(n)) = LastDigit(LastDigit(Fib(n-1)) + LastDigit(Fib(n-2)))\n",
    "        return LastDigit(Fib(n))"
   ]
  },
  {
   "cell_type": "code",
   "execution_count": 240,
   "id": "93077ad9-5392-4d1f-8725-5ca0d1e43dbf",
   "metadata": {
    "tags": []
   },
   "outputs": [],
   "source": [
    "memo = {}\n",
    "def fibonacci_last_digit(n):\n",
    "    try:\n",
    "        return memo[n]\n",
    "    except KeyError:\n",
    "        if n <= 1:\n",
    "            memo[n] = n\n",
    "        else:\n",
    "            memo[n] = (fibonacci_last_digit(n-1) + fibonacci_last_digit(n-2)) % 10\n",
    "        return memo[n]\n",
    "    \n",
    "def fibonacci_last_digit_iterate(n):\n",
    "    first = 0\n",
    "    second = 1\n",
    "    for _ in range(n):\n",
    "        first, second = second, (first + second) % 10\n",
    "    return first"
   ]
  },
  {
   "cell_type": "code",
   "execution_count": null,
   "id": "b837b289-57c2-4dc2-bef5-354968d36627",
   "metadata": {
    "tags": []
   },
   "outputs": [],
   "source": [
    "samples = [0, 1, 2, 3, 8, 9, 18, 20, 32, 48, 52, 121, 134, 243, 356, 467, 587, 1059, 3054]\n",
    "functions = [fibonacci_last_digit, fibonacci_last_digit_iterate]\n",
    "test_case = TestCase(samples, *functions, verbose=True)\n",
    "test_case.test()"
   ]
  },
  {
   "cell_type": "markdown",
   "id": "2029f9f2-7d20-47e6-814c-fd57cd6591af",
   "metadata": {},
   "source": [
    "## Huge Fibonacci Number\n",
    "### Compute the n-th Fibonacci number modulo m.\n",
    "\n",
    "The series of m modulus of Fibonacci numbers is periodic. This period is called Pisano period which is Fibonacci another name. So to compute the Fib(n) mod m, we can calculate **Fib(n) mod Pisano Period** first and then calulate its *m modulus*.\n",
    "\n",
    "    Fib(n) mod m = (Fib(n) mod Pisano Period) mod m  \n",
    "    \n",
    "Some Proofs\n",
    "- $Fib_{i}$ mod m is periodic\n",
    "- Pisano period can never be larger than $m^2$\n",
    "    \n",
    "Since Fib(n) mod m can have only have m values so there must be atleast one pair of Fib(n) mod m series which is periodic because the number of possible combinations is definite and is equal to $m^{2}$. \n",
    "\n",
    "Consider the following:  \n",
    "\n",
    "    Fib(n) = Fib(n-1) + Fib(n-2)\n",
    "    Fib(n) mod m = (Fib(n-1) + Fib(n-2)) mod m\n",
    "    Fib(n) mod m = (Fib(n-1) mod m + Fib(n-2) mod m) mod m\n",
    "    \n",
    "From the final equation it is evident that, Fib(n) mod m is dependent on Fib(n-1) mod m abd Fib(n-2) mod m. Therefore any one pair is periodic, the next consecutive pair must also be periodic and so on."
   ]
  },
  {
   "cell_type": "markdown",
   "id": "69bd7e9d-b89c-43d4-8975-debe15145c26",
   "metadata": {},
   "source": [
    "### Calculation of Pisano Period\n",
    "#### Pseudocode\n",
    "\n",
    "    PisanoPeriod(m):\n",
    "        first = 0\n",
    "        second = 1\n",
    "        count = 0\n",
    "        while True:\n",
    "            first, second = second, (first + second) mod m\n",
    "            count += 1\n",
    "            if (first, second) == (0, 1):\n",
    "                break\n",
    "        return count"
   ]
  },
  {
   "cell_type": "code",
   "execution_count": 26,
   "id": "96454cec-843d-4aab-af61-2c646bb15683",
   "metadata": {
    "tags": []
   },
   "outputs": [],
   "source": [
    "def get_pisano_series(m):\n",
    "    pisano_series = [0, 1]\n",
    "    first = pisano_series[0]\n",
    "    second = pisano_series[1]\n",
    "    \n",
    "    while True:\n",
    "        first, second = second, (first + second) % m\n",
    "        if first == 0 and second == 1:\n",
    "            pisano_series.pop(-1)\n",
    "            break\n",
    "        pisano_series.append(second)\n",
    "    return pisano_series"
   ]
  },
  {
   "cell_type": "code",
   "execution_count": 27,
   "id": "2e0c4e3f-9f8c-4653-a621-52b7e197deba",
   "metadata": {
    "tags": []
   },
   "outputs": [],
   "source": [
    "def fibonacci_mod_m(n, m):\n",
    "    pisano_series = get_pisano_series(m)\n",
    "    pisano_period = len(pisano_series)\n",
    "    return pisano_series[n%pisano_period]"
   ]
  },
  {
   "cell_type": "code",
   "execution_count": 28,
   "id": "5e13d1c4-3188-4e36-8cd8-8281e2f0a361",
   "metadata": {
    "tags": []
   },
   "outputs": [],
   "source": [
    "def fibonacci_mod_m_naive(n, m):\n",
    "    first, second = 0, 1\n",
    "    \n",
    "    for _ in range(n):\n",
    "        first, second = second, first + second\n",
    "    return first % m"
   ]
  },
  {
   "cell_type": "code",
   "execution_count": 29,
   "id": "10dc844e-dabd-425a-87ef-d09621861fc7",
   "metadata": {
    "tags": []
   },
   "outputs": [
    {
     "name": "stdout",
     "output_type": "stream",
     "text": [
      "Testing Sample (100, 3)\n",
      "fibonacci_mod_m: 0\n",
      "fibonacci_mod_m_naive: 0\n",
      "passed\n",
      "Testing Sample (439, 5)\n",
      "fibonacci_mod_m: 1\n",
      "fibonacci_mod_m_naive: 1\n",
      "passed\n",
      "Testing Sample (1020, 25)\n",
      "fibonacci_mod_m: 15\n",
      "fibonacci_mod_m_naive: 15\n",
      "passed\n",
      "Testing Sample (10000, 1040)\n",
      "fibonacci_mod_m: 315\n",
      "fibonacci_mod_m_naive: 315\n",
      "passed\n"
     ]
    },
    {
     "data": {
      "text/plain": [
       "True"
      ]
     },
     "execution_count": 29,
     "metadata": {},
     "output_type": "execute_result"
    }
   ],
   "source": [
    "samples = [(100, 3), (439, 5,), (1020, 25), (10**4, 1040)]\n",
    "test = TestCase(samples, fibonacci_mod_m, fibonacci_mod_m_naive, verbose=True)\n",
    "test.test()"
   ]
  }
 ],
 "metadata": {
  "kernelspec": {
   "display_name": "Python 3 (ipykernel)",
   "language": "python",
   "name": "python3"
  },
  "language_info": {
   "codemirror_mode": {
    "name": "ipython",
    "version": 3
   },
   "file_extension": ".py",
   "mimetype": "text/x-python",
   "name": "python",
   "nbconvert_exporter": "python",
   "pygments_lexer": "ipython3",
   "version": "3.10.11"
  }
 },
 "nbformat": 4,
 "nbformat_minor": 5
}
