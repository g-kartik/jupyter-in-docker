{
 "cells": [
  {
   "cell_type": "markdown",
   "id": "15107f88",
   "metadata": {},
   "source": [
    "## Quick Sort\n",
    "- It is a randomized algorithm\n",
    "- We choose any element, `m` from the array and split the array into two halves keeping `m` as the pivot\n",
    "- The left half would contain elements less than `m`, while the right half would contain elements larger than `m`\n",
    "- We sort the two halves recursively, until we have only one element left in the array.\n",
    "- By joining the left half, `m` and the right half, we would get a sorted array.\n",
    "\n",
    "### Time Complexity\n",
    "- The time complexity of this algorithm is dependent on the value of `m`, chosen in each recursive call. If the value is such that, it splits the array in equal halves everytime. Then the time complexity for each recursive call would be  \n",
    "`T(n) = 2 x T(n/2) + an`, where T(n/2) is the time complexity for sorting half of the elements of the array and `an` is the time complexity for representing the time required to split the array into two halves and since it can vary between different implementations of programming language, therefore the constant `a`. So the average case time complexity would be `nlog(n)`.\n",
    "- On the other hand, if the value of `m` is such that it there are no elements in the left half of each recursion, then the time complexity would be  \n",
    "`T(n) = n*T(n-1) + an` "
   ]
  },
  {
   "cell_type": "markdown",
   "id": "00ecb62a",
   "metadata": {},
   "source": [
    "### Nico Lomuto Partition Algorithm\n",
    "#### Pseudocode\n",
    "- Create a swap function for swapping two elements of a list in place\n",
    "- For the main function which takes the list and index of the pivot element\n",
    "    - Store the value of pivot element\n",
    "    - Swap the pivot element to the zero index\n",
    "    - Create a pointer for the split index\n",
    "    - Iterate through the list \n",
    "    - If element from the list is smaller than the pivot element, increment the split index\n",
    "    - Swap the element at the split index with the iterated element\n",
    "    - At the end of the iteration, swapt the pivot element with the value at the split index\n",
    "    \n",
    "### Quick Sort\n",
    "#### Pseudocode\n",
    "- if the length of the input list is 1, return the list\n",
    "- choose a random index from the list, say m_index\n",
    "- get the element at the m_index, call it the pivot element\n",
    "- partition the input list into two halves.\n",
    "- the left half should contain all the elements less than the pivot element\n",
    "- the right half should contain all the elements more than the pivot element\n",
    "- sort the left and right halves recursively\n",
    "- Merge the left and right halves along with pivot element to get the sorted list"
   ]
  },
  {
   "cell_type": "code",
   "execution_count": 32,
   "id": "4b25eb32",
   "metadata": {},
   "outputs": [],
   "source": [
    "import random"
   ]
  },
  {
   "cell_type": "code",
   "execution_count": 54,
   "id": "581ee1b0",
   "metadata": {},
   "outputs": [],
   "source": [
    "def swap(i1, i2, _list):\n",
    "    tmp = _list[i1]\n",
    "    _list[i1] = _list[i2]\n",
    "    _list[i2] = tmp\n",
    "\n",
    "def make_partition(_list, m_index):\n",
    "    m = _list[m_index]\n",
    "    swap(m_index, 0, _list)\n",
    "    split_index = 0\n",
    "    \n",
    "    for i, num in enumerate(_list[1:]):\n",
    "        if num < m:\n",
    "            split_index += 1\n",
    "            swap(split_index, i+1, _list)\n",
    "    swap(0, split_index, _list)\n",
    "    return _list, split_index"
   ]
  },
  {
   "cell_type": "code",
   "execution_count": 55,
   "id": "2d84c096",
   "metadata": {},
   "outputs": [],
   "source": [
    "def quicksort(_list):\n",
    "    if len(_list) in {0, 1}:\n",
    "        return _list\n",
    "    m_index = random.randint(0, len(_list)-1)\n",
    "    partition_list, split_index = make_partition(_list, m_index)\n",
    "    left_half = partition_list[:split_index]\n",
    "    right_half = partition_list[split_index+1:]\n",
    "    m = partition_list[split_index]\n",
    "    \n",
    "    left_half_sorted = quicksort(left_half)\n",
    "    right_half_sorted = quicksort(right_half)\n",
    "    \n",
    "    sorted_list = left_half_sorted + [m] + right_half_sorted\n",
    "    return sorted_list"
   ]
  },
  {
   "cell_type": "code",
   "execution_count": 56,
   "id": "67ff8ac0",
   "metadata": {},
   "outputs": [
    {
     "data": {
      "text/plain": [
       "[1, 2, 3, 4, 5, 6, 7, 8, 9]"
      ]
     },
     "execution_count": 56,
     "metadata": {},
     "output_type": "execute_result"
    }
   ],
   "source": [
    "quicksort([9, 8, 7, 6, 5, 4, 3, 2, 1])"
   ]
  },
  {
   "cell_type": "code",
   "execution_count": null,
   "id": "4ed6558e",
   "metadata": {},
   "outputs": [],
   "source": []
  }
 ],
 "metadata": {
  "kernelspec": {
   "display_name": "Python 3 (ipykernel)",
   "language": "python",
   "name": "python3"
  },
  "language_info": {
   "codemirror_mode": {
    "name": "ipython",
    "version": 3
   },
   "file_extension": ".py",
   "mimetype": "text/x-python",
   "name": "python",
   "nbconvert_exporter": "python",
   "pygments_lexer": "ipython3",
   "version": "3.10.11"
  }
 },
 "nbformat": 4,
 "nbformat_minor": 5
}
