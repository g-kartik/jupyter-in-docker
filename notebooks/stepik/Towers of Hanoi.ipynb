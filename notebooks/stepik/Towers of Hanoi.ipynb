{
 "cells": [
  {
   "cell_type": "markdown",
   "id": "4e787af1",
   "metadata": {},
   "source": [
    "# Towers of Hanoi"
   ]
  },
  {
   "cell_type": "markdown",
   "id": "cf8be0ae",
   "metadata": {},
   "source": [
    "Problem Statement:  \n",
    "Given n number of disks on any peg, find the number of moves required to shift them to another peg.\n",
    "\n",
    "## Pseudocode\n",
    "- To move n disks from one peg to another peg we have to:\n",
    "    1. move top n-1 diks to the spare peg\n",
    "    2. move the bottom most disk to destination peg\n",
    "    3. move the n-1 disks from the spare peg to the destination peg\n",
    "- So the number of moves required to move n disks from one peg to another = Twice the number of steps required to move n-1 disks from one peg to another + 1.\n",
    "- For example:\n",
    "    - For n = 1, number of steps = 2 x 0 + 1 = 1\n",
    "    - For n = 2, number of steps = 2 x 1 + 1 = 3\n",
    "    - For n = 3, number of steps = 2 x 3 + 1 = 7\n",
    "    - For n = 4, number of steps = 2 x 7 + 1 = 15\n",
    "    \n",
    "- Given 3 pegs We have to move n disks from the source peg to the destination peg. The psuedocode will be as follows\n",
    "    - Move n-1 disks from the source peg to the spare peg\n",
    "    - Move the bottom most disk from the source peg to the destination peg\n",
    "    - Move the n-1 disks from the spare peg to the destination peg\n",
    "- Total number of moves required to move n disks from the source peg to the destination peg = Number of steps required to move n-1 disks from the source peg to the spare peg + number of steps required to move n-1 diks from the spare peg to the destination peg + 1"
   ]
  },
  {
   "cell_type": "markdown",
   "id": "52584b82",
   "metadata": {},
   "source": [
    "## Interative Solution"
   ]
  },
  {
   "cell_type": "code",
   "execution_count": 27,
   "id": "e360ff13",
   "metadata": {},
   "outputs": [],
   "source": [
    "def get_toh_move_count(disks):\n",
    "    if not disks > 0:\n",
    "        raise ValueError(\"number of disks must be greater than 0\")\n",
    "    count = 0\n",
    "    for _ in range(1, disks+1):\n",
    "        count = 2 * count + 1\n",
    "    return count"
   ]
  },
  {
   "cell_type": "markdown",
   "id": "27f2c531",
   "metadata": {},
   "source": [
    "## Recursive Solution"
   ]
  },
  {
   "cell_type": "code",
   "execution_count": 37,
   "id": "b7d751f9",
   "metadata": {},
   "outputs": [],
   "source": [
    "def get_toh_move_count_recursive(disks):\n",
    "    if not disks > 0:\n",
    "        raise ValueError(\"number of disks must be greater than 0\")\n",
    "    if disks == 1:\n",
    "        return 1\n",
    "    else:\n",
    "        count = 2 * get_toh_move_count_recursive(disks-1) + 1\n",
    "        return count"
   ]
  },
  {
   "cell_type": "code",
   "execution_count": 45,
   "id": "c9fc27ec",
   "metadata": {},
   "outputs": [
    {
     "data": {
      "text/plain": [
       "63"
      ]
     },
     "execution_count": 45,
     "metadata": {},
     "output_type": "execute_result"
    }
   ],
   "source": [
    "get_toh_move_count_recursive(6)"
   ]
  },
  {
   "cell_type": "code",
   "execution_count": 6,
   "id": "66e86ef3",
   "metadata": {},
   "outputs": [],
   "source": [
    "def towers_of_hanoi(n, from_peg, to_peg):\n",
    "    if n == 1:\n",
    "        print(f\"Move disk from peg {from_peg} to peg {to_peg}\")\n",
    "        return\n",
    "    unused_peg = 6 - from_peg - to_peg\n",
    "    towers_of_hanoi(n-1, from_peg, unused_peg)\n",
    "    print(f\"Move disk from peg {from_peg} to peg {to_peg}\")\n",
    "    towers_of_hanoi(n-1, unused_peg, to_peg)"
   ]
  },
  {
   "cell_type": "code",
   "execution_count": 9,
   "id": "a5b25c90",
   "metadata": {},
   "outputs": [
    {
     "name": "stdout",
     "output_type": "stream",
     "text": [
      "Move a disk from peg 1 to peg 2\n",
      "Move a disk from peg 1 to peg 3\n",
      "Move a disk from peg 2 to peg 3\n",
      "Move a disk from peg 1 to peg 2\n",
      "Move a disk from peg 3 to peg 1\n",
      "Move a disk from peg 3 to peg 2\n",
      "Move a disk from peg 1 to peg 2\n",
      "Move a disk from peg 1 to peg 3\n",
      "Move a disk from peg 2 to peg 3\n",
      "Move a disk from peg 2 to peg 1\n",
      "Move a disk from peg 3 to peg 1\n",
      "Move a disk from peg 2 to peg 3\n",
      "Move a disk from peg 1 to peg 2\n",
      "Move a disk from peg 1 to peg 3\n",
      "Move a disk from peg 2 to peg 3\n"
     ]
    }
   ],
   "source": [
    "towers_of_hanoi(4, 1, 3)"
   ]
  },
  {
   "cell_type": "code",
   "execution_count": null,
   "id": "3937073b",
   "metadata": {},
   "outputs": [],
   "source": []
  }
 ],
 "metadata": {
  "kernelspec": {
   "display_name": "Python 3 (ipykernel)",
   "language": "python",
   "name": "python3"
  },
  "language_info": {
   "codemirror_mode": {
    "name": "ipython",
    "version": 3
   },
   "file_extension": ".py",
   "mimetype": "text/x-python",
   "name": "python",
   "nbconvert_exporter": "python",
   "pygments_lexer": "ipython3",
   "version": "3.10.11"
  }
 },
 "nbformat": 4,
 "nbformat_minor": 5
}
