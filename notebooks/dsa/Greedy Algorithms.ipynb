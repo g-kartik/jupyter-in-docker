{
 "cells": [
  {
   "cell_type": "markdown",
   "id": "22e68723-6c77-44ff-ba30-3f8973c96512",
   "metadata": {},
   "source": [
    "## Bulbs Problem\n",
    "Given N bulbs, either ON (1) or OFF (0)\n",
    "Turning on ith bulb causes all remaining bulbs on the right to flip\n",
    "Find the min number of switches to turn all the bulbs ON.\n",
    "\n",
    "Constraints:\n",
    "- 1 <= N <= 1e5\n",
    "- A[i] = {0, 1}"
   ]
  },
  {
   "cell_type": "markdown",
   "id": "f78c5c5e-cbae-4006-a753-4ed9c3d7a3cc",
   "metadata": {},
   "source": [
    "## Naive Solution"
   ]
  },
  {
   "cell_type": "code",
   "execution_count": 4,
   "id": "dcd605d2-4e39-45d3-9c82-c12a9e5fa780",
   "metadata": {
    "tags": []
   },
   "outputs": [],
   "source": [
    "def bulbs(B):\n",
    "    def swap(k):\n",
    "        for i in range(k, len(B)):\n",
    "            B[i] = int(not B[i])\n",
    "    cost = 0        \n",
    "    for i in range(len(B)):\n",
    "        if B[i] == 0:\n",
    "            swap(i)\n",
    "            cost += 1\n",
    "    return cost"
   ]
  },
  {
   "cell_type": "markdown",
   "id": "647c9bd2-955a-4df7-9acb-f7c13938ff73",
   "metadata": {
    "tags": []
   },
   "source": [
    "## Efficient Solution"
   ]
  },
  {
   "cell_type": "code",
   "execution_count": 10,
   "id": "d5040420-170c-40b4-a96d-46aab2d69393",
   "metadata": {
    "tags": []
   },
   "outputs": [],
   "source": [
    "def bulbs_efficient(B):\n",
    "    cost = 0\n",
    "    \n",
    "    for b in B:\n",
    "        if cost % 2:\n",
    "            b = int(not b)\n",
    "        if b == 0:\n",
    "            cost += 1\n",
    "    return cost"
   ]
  },
  {
   "cell_type": "code",
   "execution_count": 12,
   "id": "5a140c47-d14f-4b74-9e89-6ebfbfdfd73b",
   "metadata": {
    "tags": []
   },
   "outputs": [
    {
     "data": {
      "text/plain": [
       "3"
      ]
     },
     "execution_count": 12,
     "metadata": {},
     "output_type": "execute_result"
    }
   ],
   "source": [
    "bulbs_efficient([1, 0, 1, 1, 0])"
   ]
  },
  {
   "cell_type": "code",
   "execution_count": 13,
   "id": "96b2b8a4-cdaa-4806-a9dc-bc1d856a5e65",
   "metadata": {
    "tags": []
   },
   "outputs": [
    {
     "data": {
      "text/plain": [
       "3"
      ]
     },
     "execution_count": 13,
     "metadata": {},
     "output_type": "execute_result"
    }
   ],
   "source": [
    "bulbs([1, 0, 1, 1, 0])"
   ]
  },
  {
   "cell_type": "code",
   "execution_count": 14,
   "id": "91b4d610-2fcd-4aa0-9786-89b069510164",
   "metadata": {
    "tags": []
   },
   "outputs": [],
   "source": [
    "from collections import OrderedDict\n",
    "\n",
    "class TestCase:\n",
    "    \n",
    "    def __init__(self, samples, *functions, verbose=False):\n",
    "        self.samples = samples\n",
    "        self.functions = functions\n",
    "        self.verbose = verbose\n",
    "        self._validate()\n",
    "        \n",
    "    def _validate(self):\n",
    "        if len(self.functions) < 2:\n",
    "            raise ValueError(\"There must be atleast two functions to compare the test results\")\n",
    "        if len(self.samples) == 0:\n",
    "            raise ValueError(\"At least one sample must be passed\")\n",
    "            \n",
    "    def _print(self, value):\n",
    "        if self.verbose:\n",
    "            print(value)\n",
    "        \n",
    "    def test(self):\n",
    "        for sample in self.samples:\n",
    "            self._print(f\"Testing Sample {sample}\")\n",
    "            if not isinstance(sample, tuple):\n",
    "                sample = (sample,)\n",
    "            results = OrderedDict((func.__name__, func(*sample)) for func in self.functions)\n",
    "            if self.verbose:\n",
    "                for func, result in results.items():\n",
    "                    print(f\"{func}: {result}\")\n",
    "            first_result = results[self.functions[0].__name__]\n",
    "            assert all([result == first_result for result in results.values()])\n",
    "            self._print(\"passed\")\n",
    "        return True"
   ]
  },
  {
   "cell_type": "code",
   "execution_count": 25,
   "id": "3c1b27ce-e0b0-44fa-82bb-ed6e46347a6c",
   "metadata": {
    "tags": []
   },
   "outputs": [
    {
     "name": "stdout",
     "output_type": "stream",
     "text": [
      "Testing Sample [1, 0, 1, 0]\n",
      "bulbs: 3\n",
      "bulbs_efficient: 0\n"
     ]
    },
    {
     "ename": "AssertionError",
     "evalue": "",
     "output_type": "error",
     "traceback": [
      "\u001b[0;31m---------------------------------------------------------------------------\u001b[0m",
      "\u001b[0;31mAssertionError\u001b[0m                            Traceback (most recent call last)",
      "Cell \u001b[0;32mIn[25], line 2\u001b[0m\n\u001b[1;32m      1\u001b[0m test_case \u001b[38;5;241m=\u001b[39m TestCase([[\u001b[38;5;241m1\u001b[39m, \u001b[38;5;241m0\u001b[39m, \u001b[38;5;241m1\u001b[39m, \u001b[38;5;241m0\u001b[39m], [\u001b[38;5;241m0\u001b[39m, \u001b[38;5;241m1\u001b[39m, \u001b[38;5;241m1\u001b[39m, \u001b[38;5;241m0\u001b[39m]], bulbs, bulbs_efficient, verbose\u001b[38;5;241m=\u001b[39m\u001b[38;5;28;01mTrue\u001b[39;00m)\n\u001b[0;32m----> 2\u001b[0m \u001b[43mtest_case\u001b[49m\u001b[38;5;241;43m.\u001b[39;49m\u001b[43mtest\u001b[49m\u001b[43m(\u001b[49m\u001b[43m)\u001b[49m\n",
      "Cell \u001b[0;32mIn[14], line 31\u001b[0m, in \u001b[0;36mTestCase.test\u001b[0;34m(self)\u001b[0m\n\u001b[1;32m     29\u001b[0m             \u001b[38;5;28mprint\u001b[39m(\u001b[38;5;124mf\u001b[39m\u001b[38;5;124m\"\u001b[39m\u001b[38;5;132;01m{\u001b[39;00mfunc\u001b[38;5;132;01m}\u001b[39;00m\u001b[38;5;124m: \u001b[39m\u001b[38;5;132;01m{\u001b[39;00mresult\u001b[38;5;132;01m}\u001b[39;00m\u001b[38;5;124m\"\u001b[39m)\n\u001b[1;32m     30\u001b[0m     first_result \u001b[38;5;241m=\u001b[39m results[\u001b[38;5;28mself\u001b[39m\u001b[38;5;241m.\u001b[39mfunctions[\u001b[38;5;241m0\u001b[39m]\u001b[38;5;241m.\u001b[39m\u001b[38;5;18m__name__\u001b[39m]\n\u001b[0;32m---> 31\u001b[0m     \u001b[38;5;28;01massert\u001b[39;00m \u001b[38;5;28mall\u001b[39m([result \u001b[38;5;241m==\u001b[39m first_result \u001b[38;5;28;01mfor\u001b[39;00m result \u001b[38;5;129;01min\u001b[39;00m results\u001b[38;5;241m.\u001b[39mvalues()])\n\u001b[1;32m     32\u001b[0m     \u001b[38;5;28mself\u001b[39m\u001b[38;5;241m.\u001b[39m_print(\u001b[38;5;124m\"\u001b[39m\u001b[38;5;124mpassed\u001b[39m\u001b[38;5;124m\"\u001b[39m)\n\u001b[1;32m     33\u001b[0m \u001b[38;5;28;01mreturn\u001b[39;00m \u001b[38;5;28;01mTrue\u001b[39;00m\n",
      "\u001b[0;31mAssertionError\u001b[0m: "
     ]
    }
   ],
   "source": [
    "test_case = TestCase([[1, 0, 1, 0], [0, 1, 1, 0]], bulbs, bulbs_efficient, verbose=True)\n",
    "test_case.test()"
   ]
  },
  {
   "cell_type": "code",
   "execution_count": 23,
   "id": "7505b776-4497-4277-88fa-2f5df8fbb354",
   "metadata": {
    "tags": []
   },
   "outputs": [
    {
     "data": {
      "text/plain": [
       "3"
      ]
     },
     "execution_count": 23,
     "metadata": {},
     "output_type": "execute_result"
    }
   ],
   "source": [
    "bulbs([0, 1, 1, 0])"
   ]
  },
  {
   "cell_type": "code",
   "execution_count": 24,
   "id": "ab5cee84-ac2b-4b55-a515-15331bab4281",
   "metadata": {
    "tags": []
   },
   "outputs": [
    {
     "data": {
      "text/plain": [
       "3"
      ]
     },
     "execution_count": 24,
     "metadata": {},
     "output_type": "execute_result"
    }
   ],
   "source": [
    "bulbs_efficient([1, 0, 1, 0])"
   ]
  },
  {
   "cell_type": "code",
   "execution_count": null,
   "id": "8e9e074f-9c2e-4644-a602-dd82ef8ecd1e",
   "metadata": {},
   "outputs": [],
   "source": []
  }
 ],
 "metadata": {
  "kernelspec": {
   "display_name": "Python 3 (ipykernel)",
   "language": "python",
   "name": "python3"
  },
  "language_info": {
   "codemirror_mode": {
    "name": "ipython",
    "version": 3
   },
   "file_extension": ".py",
   "mimetype": "text/x-python",
   "name": "python",
   "nbconvert_exporter": "python",
   "pygments_lexer": "ipython3",
   "version": "3.10.11"
  }
 },
 "nbformat": 4,
 "nbformat_minor": 5
}
