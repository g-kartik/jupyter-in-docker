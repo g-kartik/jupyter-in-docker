{
 "cells": [
  {
   "cell_type": "markdown",
   "id": "d5cf2abd-6c88-4fb7-aaf0-8aacca6b3964",
   "metadata": {},
   "source": [
    "# Linked list"
   ]
  },
  {
   "cell_type": "code",
   "execution_count": 180,
   "id": "8add6b05-15ba-4573-94e9-bbe2f49fcb53",
   "metadata": {},
   "outputs": [],
   "source": [
    "from typing import Any\n",
    "\n",
    "class Node:\n",
    "\n",
    "    def __init__(self, data: Any = None) -> None:\n",
    "        self.data = data\n",
    "        self.next = None\n",
    "        self.previous = None\n",
    "\n",
    "    def __repr__(self):\n",
    "        return str(self.data)\n",
    "\n",
    "class LinkedList:\n",
    "\n",
    "    def __init__(self) -> None:\n",
    "        self.head = None\n",
    "        self.tail = None\n",
    "        self.length = 0\n",
    "\n",
    "    def insert(self, index: int, value: Any) -> None:\n",
    "        if not 0 <= index <= self.length:\n",
    "            raise IndexError('Index out of range')\n",
    "        node = Node(value)\n",
    "        if index == 0:\n",
    "            node.next = self.head\n",
    "            self.head = node\n",
    "            if self.tail is None:\n",
    "                self.tail = node\n",
    "        elif index == self.length:\n",
    "            node.previous = self.tail\n",
    "            self.tail.next = node\n",
    "            self.tail = node\n",
    "        else:\n",
    "            prior_node = self.head\n",
    "            for _ in range(index - 1):\n",
    "                prior_node = prior_node.next\n",
    "            node.next = prior_node.next\n",
    "            node.previous = prior_node\n",
    "            prior_node.next.previous = node\n",
    "            prior_node.next = node\n",
    "        self.length += 1\n",
    "            \n",
    "    def remove(self, index: int) -> None:\n",
    "        if not 0 <= index <= self.length - 1 or self.head is None:\n",
    "            raise IndexError('Index out of range')\n",
    "        if index == 0:\n",
    "            self.head = self.head.next\n",
    "            try:\n",
    "                self.head.previous = None\n",
    "            except AttributeError:\n",
    "                pass\n",
    "            if self.head is None:\n",
    "                self.tail = None\n",
    "        elif index == self.length - 1:\n",
    "            self.tail = self.tail.previous\n",
    "            self.tail.next = None\n",
    "        else:\n",
    "            prior_node = self.head\n",
    "            for _ in range(index - 1):\n",
    "                prior_node = prior_node.next\n",
    "            prior_node.next = prior_node.next.next\n",
    "            prior_node.next.previous = prior_node\n",
    "        self.length -= 1\n",
    "\n",
    "    def find(self, value: Any) -> bool:\n",
    "        current = self.head\n",
    "        while current is not None:\n",
    "            if current.data == value:\n",
    "                return True\n",
    "            else:\n",
    "                current = current.next\n",
    "        return False\n",
    "\n",
    "    def get(self, index: int) -> Any:\n",
    "        if not 0 <= index <= self.length - 1:\n",
    "            raise IndexError('Index out of range')\n",
    "        if index < self.length // 2:\n",
    "            current = self.head\n",
    "            for _ in range(index):\n",
    "                current = current.next\n",
    "        else:\n",
    "            current = self.tail\n",
    "            for _ in range(self.length -1 - index):\n",
    "                current = current.previous\n",
    "        return current.data\n",
    "\n",
    "    def __iter__(self):\n",
    "        current = self.head\n",
    "        while current is not None:\n",
    "            yield current.data\n",
    "            current = current.next\n",
    "\n",
    "    def __repr__(self):\n",
    "        repr = []\n",
    "        current = self.head\n",
    "        while current is not None:\n",
    "            repr.append(current.data)\n",
    "            current = current.next\n",
    "        return str(repr)\n",
    "\n",
    "    def __str__(self):\n",
    "        return self.__repr__()"
   ]
  },
  {
   "cell_type": "code",
   "execution_count": 181,
   "id": "6c1f8174-8cef-4f73-9c06-b29cf934c7fa",
   "metadata": {},
   "outputs": [],
   "source": [
    "ll = LinkedList()"
   ]
  },
  {
   "cell_type": "code",
   "execution_count": 182,
   "id": "b282352a-d619-48ef-bcca-fbbb49c64c22",
   "metadata": {},
   "outputs": [],
   "source": [
    "for i, n in enumerate(range(1, 11)):\n",
    "    ll.insert(i, n)"
   ]
  },
  {
   "cell_type": "code",
   "execution_count": 183,
   "id": "a22d72e8-ff44-4940-ac46-65e83b0819f1",
   "metadata": {},
   "outputs": [
    {
     "data": {
      "text/plain": [
       "[1, 2, 3, 4, 5, 6, 7, 8, 9, 10]"
      ]
     },
     "execution_count": 183,
     "metadata": {},
     "output_type": "execute_result"
    }
   ],
   "source": [
    "ll"
   ]
  },
  {
   "cell_type": "code",
   "execution_count": 184,
   "id": "ae86ba4b-6a2e-47de-83e6-ffae23d71cff",
   "metadata": {},
   "outputs": [
    {
     "name": "stdout",
     "output_type": "stream",
     "text": [
      "1\n",
      "2\n",
      "3\n",
      "4\n",
      "5\n",
      "6\n",
      "7\n",
      "8\n",
      "9\n",
      "10\n"
     ]
    }
   ],
   "source": [
    "for n in ll:\n",
    "    print(n)"
   ]
  },
  {
   "cell_type": "code",
   "execution_count": 187,
   "id": "cbaf886b-5f40-4c33-9e8f-dfc502ed4f3e",
   "metadata": {},
   "outputs": [
    {
     "data": {
      "text/plain": [
       "10"
      ]
     },
     "execution_count": 187,
     "metadata": {},
     "output_type": "execute_result"
    }
   ],
   "source": [
    "ll.get(9)"
   ]
  },
  {
   "cell_type": "code",
   "execution_count": null,
   "id": "7eaf935e-2e86-4a1b-ad25-2878a68f3db5",
   "metadata": {},
   "outputs": [],
   "source": []
  }
 ],
 "metadata": {
  "kernelspec": {
   "display_name": "Python 3 (ipykernel)",
   "language": "python",
   "name": "python3"
  },
  "language_info": {
   "codemirror_mode": {
    "name": "ipython",
    "version": 3
   },
   "file_extension": ".py",
   "mimetype": "text/x-python",
   "name": "python",
   "nbconvert_exporter": "python",
   "pygments_lexer": "ipython3",
   "version": "3.11.6"
  }
 },
 "nbformat": 4,
 "nbformat_minor": 5
}
